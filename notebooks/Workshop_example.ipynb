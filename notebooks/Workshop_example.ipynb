{
 "cells": [
  {
   "cell_type": "markdown",
   "metadata": {
    "application/vnd.databricks.v1+cell": {
     "inputWidgets": {},
     "nuid": "f13923fd-5ece-41e8-ad79-06a0a8972672",
     "showTitle": false,
     "title": ""
    }
   },
   "source": [
    "# SafeGraph SIGSPATIAL 2021 Workshop\n",
    "\n",
    "## Understand Consumer Behavior With Verified Foot Traffic Data\n",
    "\n",
    "**Background** Visitor and demographic aggregation data provide essential context on population behavior. How often a place of interest is visited, how long do visitors stay, where did they come from, and where are they going? The answers are invaluable in numerous industries. Building financial indicators, city and urban planning, public health indicators, or identifying your primary business competitors all require accurate, high quality population and POI data. \n",
    "\n",
    "**Objective** Our workshop’s objective is to provide professionals, researchers, and practitioners interested in deriving human movement patterns from location data. We use a sample of our Weekly and Monthly Patterns and Core Places products to perform market research on a potential new coffee shop location. We’ll address these concerns and more in building a market analysis proposal in real time. \n",
    "\n",
    "**Questions to Answer** \n",
    "- How far are customers willing to travel for coffee? \n",
    "- What location will receive the most visibility? \n",
    "- Where do most of the coffee customers come from?"
   ]
  },
  {
   "cell_type": "markdown",
   "metadata": {
    "application/vnd.databricks.v1+cell": {
     "inputWidgets": {},
     "nuid": "6ff40847-a1f5-434e-89e9-099b086340d8",
     "showTitle": false,
     "title": ""
    }
   },
   "source": [
    "## Notebook Setup"
   ]
  },
  {
   "cell_type": "code",
   "execution_count": null,
   "metadata": {},
   "outputs": [],
   "source": [
    "spark = SparkSession. \\\n",
    "    builder. \\\n",
    "    appName('sigspatial2021'). \\\n",
    "    config(\"spark.serializer\", \"org.apache.spark.serializer.KryoSerializer\"). \\\n",
    "    config(\"spark.kryo.registrator\", \"org.apache.sedona.core.serde.SedonaKryoSerializer\"). \\\n",
    "    getOrCreate()"
   ]
  },
  {
   "cell_type": "code",
   "execution_count": null,
   "metadata": {
    "application/vnd.databricks.v1+cell": {
     "inputWidgets": {},
     "nuid": "b148206f-8930-4a38-bbcc-7be781f099ce",
     "showTitle": false,
     "title": ""
    }
   },
   "outputs": [],
   "source": [
    "import pyspark.sql.functions as f\n",
    "from pyspark.sql.types import MapType, StringType, IntegerType\n",
    "\n",
    "import pandas as pd"
   ]
  },
  {
   "cell_type": "markdown",
   "metadata": {
    "application/vnd.databricks.v1+cell": {
     "inputWidgets": {},
     "nuid": "f01fd7cd-55f3-4a21-b8d6-bc57655e1056",
     "showTitle": false,
     "title": ""
    }
   },
   "source": [
    "### Load in SafeGraph sample data from s3\n",
    "The covers all coffee shops (`category_tag.contains(\"Coffee Shop\")`) in Seattle (`county_FIPS.isin([\"53033\",\"53053\",\"53061\"]`), with multiple rows per POI corresponding to monthly foot traffic since the beginning of 2018 (1 month per row per POI).\n",
    "\n",
    "Columns are SafeGraph Core, Geo, and Patterns pre-joined together with `placekey` as the join key."
   ]
  },
  {
   "cell_type": "code",
   "execution_count": null,
   "metadata": {
    "application/vnd.databricks.v1+cell": {
     "inputWidgets": {},
     "nuid": "4a3b905c-d951-4607-afd8-8d997316303c",
     "showTitle": false,
     "title": ""
    }
   },
   "outputs": [],
   "source": [
    "sample_csv_path = '../data/seattle_coffee_monthly_patterns/'\n",
    "sample = (\n",
    "  spark.read.option(\"header\", \"true\").option(\"escape\", \"\\\"\").csv(sample_csv_path)\n",
    "  .withColumn('date_range_start', f.to_date(f.col('date_range_start')))\n",
    "  .withColumn('date_range_end', f.to_date(f.col('date_range_end')))\n",
    "  .withColumn('visitor_home_cbgs', f.from_json('visitor_home_cbgs', schema = MapType(StringType(), IntegerType())))\n",
    ")"
   ]
  },
  {
   "cell_type": "code",
   "execution_count": null,
   "metadata": {
    "application/vnd.databricks.v1+cell": {
     "inputWidgets": {},
     "nuid": "6b261aaf-614c-4313-b928-455783a3b432",
     "showTitle": false,
     "title": ""
    }
   },
   "outputs": [],
   "source": [
    "sample.limit(10).toPandas().head()"
   ]
  },
  {
   "cell_type": "markdown",
   "metadata": {
    "application/vnd.databricks.v1+cell": {
     "inputWidgets": {},
     "nuid": "3212b739-9ab0-40ac-8800-a6c9b7b617a1",
     "showTitle": false,
     "title": ""
    }
   },
   "source": [
    "## Exploratory Data Analysis and Visualization"
   ]
  },
  {
   "cell_type": "markdown",
   "metadata": {
    "application/vnd.databricks.v1+cell": {
     "inputWidgets": {},
     "nuid": "6f5cfe88-b2f7-4f42-b8f6-1cb34aef79ad",
     "showTitle": false,
     "title": ""
    }
   },
   "source": [
    "### Visualize the coffee shops"
   ]
  },
  {
   "cell_type": "code",
   "execution_count": null,
   "metadata": {
    "application/vnd.databricks.v1+cell": {
     "inputWidgets": {},
     "nuid": "3e44811d-87da-465a-8ab3-ae29ad7b9a39",
     "showTitle": false,
     "title": ""
    }
   },
   "outputs": [],
   "source": [
    "from pyspark.sql.window import Window\n",
    "import geopandas as gpd\n",
    "import folium"
   ]
  },
  {
   "cell_type": "code",
   "execution_count": null,
   "metadata": {
    "application/vnd.databricks.v1+cell": {
     "inputWidgets": {},
     "nuid": "2e47587c-7a3f-47b6-b8de-2b5eb685fff6",
     "showTitle": false,
     "title": ""
    }
   },
   "outputs": [],
   "source": [
    "w = Window().partitionBy('placekey').orderBy(f.col('date_range_start').desc())\n",
    "\n",
    "cafes_latest = (\n",
    "  sample\n",
    "  # as our data improves, addresses or geocodes for a given location may change over time\n",
    "  # use a window function to keep only the most recent appearance of the given cafe\n",
    "  .withColumn('row_num', f.row_number().over(w))\n",
    "  .filter(f.col('row_num') == 1)\n",
    "  # select the columns we need for mapping\n",
    "  .select('placekey', 'location_name', 'brands', 'street_address', 'city', 'region', 'postal_code', 'latitude', 'longitude', 'open_hours')\n",
    ")"
   ]
  },
  {
   "cell_type": "code",
   "execution_count": null,
   "metadata": {
    "application/vnd.databricks.v1+cell": {
     "inputWidgets": {},
     "nuid": "7e021a76-d6bc-4141-b8e0-07ab7945e5e5",
     "showTitle": false,
     "title": ""
    }
   },
   "outputs": [],
   "source": [
    "# create a geopandas geodataframe\n",
    "cafes_gdf = cafes_latest.toPandas()\n",
    "cafes_gdf = gpd.GeoDataFrame(cafes_gdf, geometry = gpd.points_from_xy(cafes_gdf['longitude'], cafes_gdf['latitude']), crs = 'EPSG:4326')"
   ]
  },
  {
   "cell_type": "code",
   "execution_count": null,
   "metadata": {
    "application/vnd.databricks.v1+cell": {
     "inputWidgets": {},
     "nuid": "3ffcf731-aff1-4fd5-a125-a70bdb969212",
     "showTitle": false,
     "title": ""
    }
   },
   "outputs": [],
   "source": [
    "def map_cafes(gdf):\n",
    "  \n",
    "  # map bounds\n",
    "  sw = [gdf.unary_union.bounds[1], gdf.unary_union.bounds[0]]\n",
    "  ne = [gdf.unary_union.bounds[3], gdf.unary_union.bounds[2]]\n",
    "  folium_bounds = [sw, ne]\n",
    "  \n",
    "  # map\n",
    "  x = gdf.centroid.x[0]\n",
    "  y = gdf.centroid.y[0]\n",
    "  \n",
    "  map_ = folium.Map(\n",
    "    location = [y, x],\n",
    "    tiles = \"OpenStreetMap\"\n",
    "  )\n",
    "  \n",
    "  for i, point in gdf.iterrows():\n",
    "    \n",
    "    tooltip = f\"placekey: {point['placekey']}<br>location_name: {point['location_name']}<br>brands: {point['brands']}<br>street_address: {point['street_address']}<br>city: {point['city']}<br>region: {point['region']}<br>postal_code: {point['postal_code']}<br>open_hours: {point['open_hours']}\"\n",
    "    \n",
    "    folium.Circle(\n",
    "      [point['geometry'].y, point['geometry'].x],\n",
    "      radius = 40,\n",
    "      fill_color = 'blue',\n",
    "      color = 'blue',\n",
    "      fill_opacity = 1,\n",
    "      tooltip = tooltip\n",
    "    ).add_to(map_)\n",
    "\n",
    "  map_.fit_bounds(folium_bounds) \n",
    "  \n",
    "  return map_"
   ]
  },
  {
   "cell_type": "code",
   "execution_count": null,
   "metadata": {
    "application/vnd.databricks.v1+cell": {
     "inputWidgets": {},
     "nuid": "fb5e0ed3-d73b-4f62-94a8-c69bd25b2366",
     "showTitle": false,
     "title": ""
    }
   },
   "outputs": [],
   "source": [
    "map_ = map_cafes(cafes_gdf)\n",
    "map_"
   ]
  },
  {
   "cell_type": "markdown",
   "metadata": {
    "application/vnd.databricks.v1+cell": {
     "inputWidgets": {},
     "nuid": "b339352b-fb18-4940-ac18-8c4b50d162a3",
     "showTitle": false,
     "title": ""
    }
   },
   "source": [
    "## Analysis"
   ]
  },
  {
   "cell_type": "markdown",
   "metadata": {
    "application/vnd.databricks.v1+cell": {
     "inputWidgets": {},
     "nuid": "7fea603b-83fc-41fa-a423-778cdb51e88b",
     "showTitle": false,
     "title": ""
    }
   },
   "source": [
    "### How far are people willing to travel for coffee?"
   ]
  },
  {
   "cell_type": "code",
   "execution_count": null,
   "metadata": {
    "application/vnd.databricks.v1+cell": {
     "inputWidgets": {},
     "nuid": "520fefcf-e222-453d-b5e2-4efd8a098a61",
     "showTitle": false,
     "title": ""
    }
   },
   "outputs": [],
   "source": [
    "# the `distance_from_home` column tells us the median distance (as the crow flies), in meters, between the coffee shop and the visitors' homes \n",
    "# which coffee shop's visitors had the highest average median distance traveled since Jan 2018?\n",
    "\n",
    "# outlier values in this column distort the histogram\n",
    "# these outliers are likely due to a combination of (1) coffee shops in downtown areas that receive high numbers of out-of-town visitors and (2) quirks in the underlying GPS data\n",
    "furthest_traveled = (\n",
    "  sample\n",
    "  .groupBy('placekey', 'location_name')\n",
    "  .agg(f.mean('distance_from_home').alias('avg_median_dist_from_home'))\n",
    "  .orderBy('avg_median_dist_from_home', ascending = False)\n",
    ")\n",
    "\n",
    "display(furthest_traveled)"
   ]
  },
  {
   "cell_type": "code",
   "execution_count": null,
   "metadata": {
    "application/vnd.databricks.v1+cell": {
     "inputWidgets": {},
     "nuid": "c4a5839c-610b-4802-a26e-d97a9145a818",
     "showTitle": false,
     "title": ""
    }
   },
   "outputs": [],
   "source": [
    "# most coffee shops' visitors' homes are <10km away\n",
    "display(furthest_traveled.filter(f.col('avg_median_dist_from_home') < 25000))"
   ]
  },
  {
   "cell_type": "code",
   "execution_count": null,
   "metadata": {
    "application/vnd.databricks.v1+cell": {
     "inputWidgets": {},
     "nuid": "30567048-2827-4fa2-afbb-6a8bf8880a50",
     "showTitle": false,
     "title": ""
    }
   },
   "outputs": [],
   "source": [
    "# but `distance_from_home` takes into account ALL visitors to the coffee shop, which as we saw above can distort values. When selecting a site for a coffee shop, we likely care more about how far visitors traveled from within Seattle\n",
    "# we can compute this using Sedona\n",
    "import sedona\n",
    "from sedona.register import SedonaRegistrator\n",
    "from sedona.utils import SedonaKryoRegistrator, KryoSerializer\n",
    "\n",
    "SedonaRegistrator.registerAll(spark)"
   ]
  },
  {
   "cell_type": "code",
   "execution_count": null,
   "metadata": {
    "application/vnd.databricks.v1+cell": {
     "inputWidgets": {},
     "nuid": "d516f594-62db-494d-b08d-8261836ed7e0",
     "showTitle": false,
     "title": ""
    }
   },
   "outputs": [],
   "source": [
    "# load the census block groups for Washington State\n",
    "# filter it down to our three counties of interest in Seattle \n",
    "WA_cbgs = (\n",
    "  spark.read.option('header', 'true').option('escape', \"\\\"\").csv('../data/wa_cbg.csv')\n",
    "  .filter(f.col('GEOID').rlike('^(53033|53053|53061)'))\n",
    ")\n",
    "WA_cbgs.head()"
   ]
  },
  {
   "cell_type": "code",
   "execution_count": null,
   "metadata": {
    "application/vnd.databricks.v1+cell": {
     "inputWidgets": {},
     "nuid": "df54c6c2-d183-44c2-9a1a-6f56a1ed6793",
     "showTitle": false,
     "title": ""
    }
   },
   "outputs": [],
   "source": [
    "# transform the geometry column into a Geometry-type\n",
    "WA_cbgs = (\n",
    "  WA_cbgs\n",
    "  .withColumn('cbg_geometry', f.expr(\"ST_GeomFromWkt(geometry)\"))\n",
    "  # we'll just use the CBG centroid\n",
    "  .withColumn('cbg_geometry', f.expr(\"ST_Centroid(cbg_geometry)\"))\n",
    "  # since we'll be doing a distance calculation, let's also use a projected CRS - epsg:3857\n",
    "  .withColumn('cbg_geometry', f.expr(\"ST_Transform(ST_FlipCoordinates(cbg_geometry), 'epsg:4326','epsg:3857', false)\")) # ST_FlipCoordinates() necessary due to this bug: https://issues.apache.org/jira/browse/SEDONA-39\n",
    "  .withColumnRenamed('GEOID', 'cbg')\n",
    "  .withColumnRenamed('geometry', 'cbg_polygon_geometry')\n",
    ")"
   ]
  },
  {
   "cell_type": "code",
   "execution_count": null,
   "metadata": {
    "application/vnd.databricks.v1+cell": {
     "inputWidgets": {},
     "nuid": "5ce1db0f-0446-4369-ae2e-672853bbf7c4",
     "showTitle": false,
     "title": ""
    }
   },
   "outputs": [],
   "source": [
    "WA_cbgs.limit(10).toPandas().head()"
   ]
  },
  {
   "cell_type": "code",
   "execution_count": null,
   "metadata": {
    "application/vnd.databricks.v1+cell": {
     "inputWidgets": {},
     "nuid": "b15c3035-5ab9-4b23-9d37-b5f7ee023026",
     "showTitle": false,
     "title": ""
    }
   },
   "outputs": [],
   "source": [
    "# Next let's prep our sample data\n",
    "sample_seattle_visitors = (\n",
    "  sample\n",
    "  .select('placekey', f.explode('visitor_home_cbgs'))\n",
    "  .withColumnRenamed('key', 'cbg')\n",
    "  .withColumnRenamed('value', 'visitors')\n",
    "#   # filter out CBGs with low visitor counts\n",
    "  .filter(f.col('visitors') > 4)\n",
    "  # filter down to only the visitors from Seattle CBGs\n",
    "  .filter(f.col('cbg').rlike('^(53033|53053|53061)'))\n",
    "  # aggregate up all the visitors over time from each CBG to each Cafe\n",
    "  .groupBy('placekey', 'cbg')\n",
    "  .agg(\n",
    "    f.sum('visitors').alias('visitors')\n",
    "  )\n",
    "  # join back with most up-to-date POI information\n",
    "  .join(\n",
    "    cafes_latest.select('placekey', 'latitude', 'longitude'),\n",
    "    'placekey'\n",
    "  )\n",
    "  # transform geometry column\n",
    "  .withColumn('cafe_geometry', f.expr(\"ST_Point(CAST(longitude AS Decimal(24, 20)), CAST(latitude AS Decimal(24, 20)))\"))\n",
    "  .withColumn('cafe_geometry', f.expr(\"ST_Transform(ST_FlipCoordinates(cafe_geometry), 'epsg:4326','epsg:3857', false)\"))\n",
    "  # join with CBG geometries\n",
    "  .join(WA_cbgs, 'cbg')\n",
    ")"
   ]
  },
  {
   "cell_type": "code",
   "execution_count": null,
   "metadata": {
    "application/vnd.databricks.v1+cell": {
     "inputWidgets": {},
     "nuid": "620a4eea-a132-4900-9b93-164c0228455f",
     "showTitle": false,
     "title": ""
    }
   },
   "outputs": [],
   "source": [
    "sample_seattle_visitors.limit(10).toPandas().head()"
   ]
  },
  {
   "cell_type": "code",
   "execution_count": null,
   "metadata": {
    "application/vnd.databricks.v1+cell": {
     "inputWidgets": {},
     "nuid": "11f5e9d4-73b3-4df0-91f0-1df67935edc9",
     "showTitle": false,
     "title": ""
    }
   },
   "outputs": [],
   "source": [
    "distance_traveled_SEA = (\n",
    "  sample_seattle_visitors\n",
    "  # calculate the distance from home in meters\n",
    "  .withColumn('distance_from_home', f.expr(\"ST_Distance(cafe_geometry, cbg_geometry)\"))\n",
    ")\n",
    "distance_traveled_SEA.createOrReplaceTempView('distance_traveled_SEA')"
   ]
  },
  {
   "cell_type": "code",
   "execution_count": null,
   "metadata": {
    "application/vnd.databricks.v1+cell": {
     "inputWidgets": {},
     "nuid": "95616ebb-b693-4144-8492-1a1efebd91d2",
     "showTitle": false,
     "title": ""
    }
   },
   "outputs": [],
   "source": [
    "q = '''\n",
    "SELECT *\n",
    "FROM (\n",
    "  SELECT DISTINCT \n",
    "    placekey, \n",
    "    cbg,\n",
    "    visitors,\n",
    "    distance_from_home,\n",
    "    posexplode(split(repeat(\",\", visitors), \",\"))\n",
    "    FROM distance_traveled_SEA\n",
    ")\n",
    "WHERE pos > 0\n",
    "'''\n",
    "\n",
    "weighted_median_tmp = spark.sql(q)"
   ]
  },
  {
   "cell_type": "code",
   "execution_count": null,
   "metadata": {
    "application/vnd.databricks.v1+cell": {
     "inputWidgets": {},
     "nuid": "0b9e4328-7f7d-4a8c-a3f9-2b2eb915b81e",
     "showTitle": false,
     "title": ""
    }
   },
   "outputs": [],
   "source": [
    "grp_window = Window.partitionBy('placekey')\n",
    "median_percentile = f.expr('percentile_approx(distance_from_home, 0.5)')"
   ]
  },
  {
   "cell_type": "code",
   "execution_count": null,
   "metadata": {
    "application/vnd.databricks.v1+cell": {
     "inputWidgets": {},
     "nuid": "6b759ccb-409c-4862-a4a3-d3bc4b5ac790",
     "showTitle": false,
     "title": ""
    }
   },
   "outputs": [],
   "source": [
    "weighted_median_tmp.limit(10).toPandas().head()"
   ]
  },
  {
   "cell_type": "code",
   "execution_count": null,
   "metadata": {
    "application/vnd.databricks.v1+cell": {
     "inputWidgets": {},
     "nuid": "c6d72ef3-d4ae-444c-8e1b-8beb8d990407",
     "showTitle": false,
     "title": ""
    }
   },
   "outputs": [],
   "source": [
    "median_dist_traveled_SEA = (\n",
    "  weighted_median_tmp\n",
    "  .groupBy('placekey')\n",
    "  .agg(median_percentile.alias('median_dist_traveled_SEA'))\n",
    ")"
   ]
  },
  {
   "cell_type": "code",
   "execution_count": null,
   "metadata": {
    "application/vnd.databricks.v1+cell": {
     "inputWidgets": {},
     "nuid": "ffb3a4b3-1ede-4e80-a22d-bb2968ef1b40",
     "showTitle": false,
     "title": ""
    }
   },
   "outputs": [],
   "source": [
    "median_dist_traveled_SEA.filter(f.col('median_dist_traveled_SEA') < 25000).limit(10).toPandas().head()\n"
   ]
  },
  {
   "cell_type": "code",
   "execution_count": null,
   "metadata": {
    "application/vnd.databricks.v1+cell": {
     "inputWidgets": {},
     "nuid": "0eab1532-a2b6-4de0-ab48-feb16672125e",
     "showTitle": false,
     "title": ""
    }
   },
   "outputs": [],
   "source": [
    "total_visits = (\n",
    "  sample\n",
    "  .groupBy('placekey')\n",
    "  .agg(\n",
    "    f.sum('raw_visit_counts').alias('total_visits'),\n",
    "    f.sum('raw_visitor_counts').alias('total_visitors')\n",
    "  )\n",
    ")"
   ]
  },
  {
   "cell_type": "code",
   "execution_count": null,
   "metadata": {
    "application/vnd.databricks.v1+cell": {
     "inputWidgets": {},
     "nuid": "443071d7-f9ae-469b-8b73-d57af8880635",
     "showTitle": false,
     "title": ""
    }
   },
   "outputs": [],
   "source": [
    "distance_traveled_final = (\n",
    "  furthest_traveled\n",
    "  .join(median_dist_traveled_SEA, 'placekey')\n",
    "  .join(cafes_latest, ['placekey', 'location_name'])\n",
    "  .withColumn('distance_traveled_diff', f.col('avg_median_dist_from_home') - f.col('median_dist_traveled_SEA'))\n",
    "  # keep only the cafes with a meaningful sample - at least 1000 visits since 2018\n",
    "  .join(total_visits, 'placekey')\n",
    "  .filter(f.col('total_visits') > 1000)\n",
    "  .orderBy('distance_traveled_diff', ascending = False)\n",
    ")"
   ]
  },
  {
   "cell_type": "code",
   "execution_count": null,
   "metadata": {
    "application/vnd.databricks.v1+cell": {
     "inputWidgets": {},
     "nuid": "1af4befb-3fed-4010-ac42-b85e4be5fc2a",
     "showTitle": false,
     "title": ""
    }
   },
   "outputs": [],
   "source": [
    "distance_traveled_final.limit(10).toPandas().head()"
   ]
  },
  {
   "cell_type": "code",
   "execution_count": null,
   "metadata": {
    "application/vnd.databricks.v1+cell": {
     "inputWidgets": {},
     "nuid": "7ebcbde8-5138-4b78-95f9-72584936c841",
     "showTitle": false,
     "title": ""
    }
   },
   "outputs": [],
   "source": [
    "distance_traveled_final.select('placekey').distinct().count()"
   ]
  },
  {
   "cell_type": "code",
   "execution_count": null,
   "metadata": {
    "application/vnd.databricks.v1+cell": {
     "inputWidgets": {},
     "nuid": "99f02384-ffd0-4524-ae86-c39fd3295d55",
     "showTitle": false,
     "title": ""
    }
   },
   "outputs": [],
   "source": [
    "most_tourists = distance_traveled_final.limit(500).withColumn('visitor_type', f.lit('tourist'))\n",
    "most_locals = distance_traveled_final.orderBy('distance_traveled_diff').limit(500).withColumn('visitor_type', f.lit('local'))\n",
    "\n",
    "visitor_type = most_tourists.unionByName(most_locals)\n",
    "\n",
    "# create a geopandas geodataframe\n",
    "visitor_type_gdf = visitor_type.toPandas()\n",
    "visitor_type_gdf = gpd.GeoDataFrame(visitor_type_gdf, geometry = gpd.points_from_xy(visitor_type_gdf['longitude'], visitor_type_gdf['latitude']), crs = 'EPSG:4326')"
   ]
  },
  {
   "cell_type": "code",
   "execution_count": null,
   "metadata": {
    "application/vnd.databricks.v1+cell": {
     "inputWidgets": {},
     "nuid": "853ad746-d7a7-4a3d-aa49-6c206187cda5",
     "showTitle": false,
     "title": ""
    }
   },
   "outputs": [],
   "source": [
    "def map_cafe_visitor_type(gdf):\n",
    "  \n",
    "  # map bounds\n",
    "  sw = [gdf.unary_union.bounds[1], gdf.unary_union.bounds[0]]\n",
    "  ne = [gdf.unary_union.bounds[3], gdf.unary_union.bounds[2]]\n",
    "  folium_bounds = [sw, ne]\n",
    "  \n",
    "  # map\n",
    "  x = gdf.centroid.x[0]\n",
    "  y = gdf.centroid.y[0]\n",
    "  \n",
    "  map_ = folium.Map(\n",
    "    location = [y, x],\n",
    "    tiles = \"OpenStreetMap\"\n",
    "  )\n",
    "  \n",
    "  for i, point in gdf.iterrows():\n",
    "    \n",
    "    tooltip = f\"placekey: {point['placekey']}<br>location_name: {point['location_name']}<br>brands: {point['brands']}<br>street_address: {point['street_address']}<br>city: {point['city']}<br>region: {point['region']}<br>postal_code: {point['postal_code']}<br>visitor_type: {point['visitor_type']}<br>avg_median_dist_from_home: {point['avg_median_dist_from_home']}\"\n",
    "    \n",
    "    folium.Circle(\n",
    "      [point['geometry'].y, point['geometry'].x],\n",
    "      radius = 40,\n",
    "      fill_color = 'blue' if point['visitor_type'] == 'tourist' else 'red',\n",
    "      color = 'blue' if point['visitor_type'] == 'tourist' else 'red',\n",
    "      fill_opacity = 1,\n",
    "      tooltip = tooltip\n",
    "    ).add_to(map_)\n",
    "\n",
    "  map_.fit_bounds(folium_bounds) \n",
    "  \n",
    "  return map_"
   ]
  },
  {
   "cell_type": "code",
   "execution_count": null,
   "metadata": {
    "application/vnd.databricks.v1+cell": {
     "inputWidgets": {},
     "nuid": "67e401a7-fb5e-4ab0-8f97-7d7361df2397",
     "showTitle": false,
     "title": ""
    }
   },
   "outputs": [],
   "source": [
    "# blue = touristy, red = locals\n",
    "map_cafe_visitor_type(visitor_type_gdf)"
   ]
  },
  {
   "cell_type": "markdown",
   "metadata": {
    "application/vnd.databricks.v1+cell": {
     "inputWidgets": {},
     "nuid": "305edc97-20cf-4ccc-b5e4-64385bdf2bc4",
     "showTitle": false,
     "title": ""
    }
   },
   "source": [
    "### What location will receive the most visibility?\n",
    "\n",
    "In other words, in what neighborhood do coffee shops get the most visits generally?"
   ]
  },
  {
   "cell_type": "code",
   "execution_count": null,
   "metadata": {
    "application/vnd.databricks.v1+cell": {
     "inputWidgets": {},
     "nuid": "6da8be09-d963-4e90-a263-a8bdb9664a99",
     "showTitle": false,
     "title": ""
    }
   },
   "outputs": [],
   "source": [
    "WA_neighbs = (\n",
    "  spark.read.option('header', 'true').option('escape', \"\\\"\").csv('../data/seattle_neighborhoods.csv')\n",
    "  # transform the geometry column into a Geometry-type\n",
    "  .withColumn('geometry', f.expr(\"ST_GeomFromWkt(geometry)\"))\n",
    ")\n",
    "WA_neighbs.createOrReplaceTempView('WA_neighbs')\n",
    "\n",
    "WA_neighbs.limit(10).toPandas().head()"
   ]
  },
  {
   "cell_type": "code",
   "execution_count": null,
   "metadata": {
    "application/vnd.databricks.v1+cell": {
     "inputWidgets": {},
     "nuid": "6430ac39-a32e-4baa-b006-11679cbc6f36",
     "showTitle": false,
     "title": ""
    }
   },
   "outputs": [],
   "source": [
    "cafes_geo = cafes_latest.withColumn('cafe_geometry', f.expr(\"ST_Point(CAST(longitude AS Decimal(24,20)), CAST(latitude AS Decimal(24,20)))\")).select('placekey', 'cafe_geometry')\n",
    "cafes_geo.createOrReplaceTempView('cafes_geo')"
   ]
  },
  {
   "cell_type": "code",
   "execution_count": null,
   "metadata": {
    "application/vnd.databricks.v1+cell": {
     "inputWidgets": {},
     "nuid": "8fe0b764-dccd-4eba-ad9e-15cb554fb797",
     "showTitle": false,
     "title": ""
    }
   },
   "outputs": [],
   "source": [
    "# perform a spatial join\n",
    "q = '''\n",
    "SELECT cafes_geo.placekey, WA_neighbs.S_HOOD as neighborhood, WA_neighbs.geometry\n",
    "FROM WA_neighbs, cafes_geo\n",
    "WHERE ST_Intersects(WA_neighbs.geometry, cafes_geo.cafe_geometry)\n",
    "'''\n",
    "\n",
    "cafe_neighb_join = spark.sql(q)"
   ]
  },
  {
   "cell_type": "code",
   "execution_count": null,
   "metadata": {
    "application/vnd.databricks.v1+cell": {
     "inputWidgets": {},
     "nuid": "b70c626b-8ccb-4671-95d8-df7baade3a26",
     "showTitle": false,
     "title": ""
    }
   },
   "outputs": [],
   "source": [
    "cafe_neighb_join.limit(10).toPandas().head()"
   ]
  },
  {
   "cell_type": "code",
   "execution_count": null,
   "metadata": {
    "application/vnd.databricks.v1+cell": {
     "inputWidgets": {},
     "nuid": "eef49cf0-b948-4bc2-a710-a26e4100ed8f",
     "showTitle": false,
     "title": ""
    }
   },
   "outputs": [],
   "source": [
    "# add the visit and visitor counts and aggregate up to the neighborhood\n",
    "neighborhood_agg = (\n",
    "  cafe_neighb_join\n",
    "  .join(total_visits, 'placekey')\n",
    "  .groupBy('neighborhood', f.col('geometry').cast('string').alias('geometry'))\n",
    "  .agg(\n",
    "    f.sum('total_visits').alias('total_visits'),\n",
    "    f.sum('total_visitors').alias('total_visitors')\n",
    "  )\n",
    ")"
   ]
  },
  {
   "cell_type": "code",
   "execution_count": null,
   "metadata": {
    "application/vnd.databricks.v1+cell": {
     "inputWidgets": {},
     "nuid": "2589de66-5e04-4455-ba0c-ce6df58eb577",
     "showTitle": false,
     "title": ""
    }
   },
   "outputs": [],
   "source": [
    "neighbs_gdf = (\n",
    "  neighborhood_agg\n",
    "  .toPandas()\n",
    ")\n",
    "neighbs_gdf = gpd.GeoDataFrame(neighbs_gdf, geometry = gpd.GeoSeries.from_wkt(neighbs_gdf['geometry']), crs = 'EPSG:4326')"
   ]
  },
  {
   "cell_type": "code",
   "execution_count": null,
   "metadata": {
    "application/vnd.databricks.v1+cell": {
     "inputWidgets": {},
     "nuid": "4d59b328-99e1-459f-b409-8dfa9e9f518a",
     "showTitle": false,
     "title": ""
    }
   },
   "outputs": [],
   "source": [
    "def map_neighbs(gdf):\n",
    "  \n",
    "  # map bounds\n",
    "  sw = [gdf.unary_union.bounds[1], gdf.unary_union.bounds[0]]\n",
    "  ne = [gdf.unary_union.bounds[3], gdf.unary_union.bounds[2]]\n",
    "  folium_bounds = [sw, ne]\n",
    "  \n",
    "  # map\n",
    "  x = gdf.centroid.x[0]\n",
    "  y = gdf.centroid.y[0]\n",
    "  \n",
    "  map_ = folium.Map(\n",
    "    location = [y, x],\n",
    "    tiles = \"OpenStreetMap\"\n",
    "  )\n",
    "    \n",
    "  gdf['percentile'] = pd.qcut(gdf['total_visits'], 100, labels=False) / 100\n",
    "  \n",
    "  folium.GeoJson(\n",
    "      gdf[['neighborhood', 'total_visits', 'total_visitors', 'percentile', 'geometry']],\n",
    "      style_function = lambda x: {\n",
    "        'weight':0,\n",
    "        'color':'blue',\n",
    "        'fillOpacity': x['properties']['percentile']\n",
    "      },\n",
    "    tooltip = folium.features.GeoJsonTooltip(\n",
    "        fields = ['neighborhood', 'total_visits', 'total_visitors', 'percentile']\n",
    "      )\n",
    "    ).add_to(map_)\n",
    "\n",
    "  map_.fit_bounds(folium_bounds) \n",
    "  \n",
    "  return map_"
   ]
  },
  {
   "cell_type": "code",
   "execution_count": null,
   "metadata": {
    "application/vnd.databricks.v1+cell": {
     "inputWidgets": {},
     "nuid": "a63202a8-4e20-4e05-a406-0feedea81106",
     "showTitle": false,
     "title": ""
    }
   },
   "outputs": [],
   "source": [
    "map_neighbs(neighbs_gdf)"
   ]
  },
  {
   "cell_type": "markdown",
   "metadata": {
    "application/vnd.databricks.v1+cell": {
     "inputWidgets": {},
     "nuid": "bd8784f0-5063-4b62-9da0-48f42aea8779",
     "showTitle": false,
     "title": ""
    }
   },
   "source": [
    "### What home location has the most coffee-shop-goers?"
   ]
  },
  {
   "cell_type": "code",
   "execution_count": null,
   "metadata": {
    "application/vnd.databricks.v1+cell": {
     "inputWidgets": {},
     "nuid": "576a8374-63cc-461b-8fb7-034cad0799d3",
     "showTitle": false,
     "title": ""
    }
   },
   "outputs": [],
   "source": [
    "home_loc_most_cafe_visitors = (\n",
    "  sample\n",
    "  .select(f.explode('visitor_home_cbgs'))\n",
    "  .withColumnRenamed('key', 'cbg')\n",
    "  .withColumnRenamed('value', 'visitors')\n",
    "  .groupBy('cbg')\n",
    "  .agg(f.sum('visitors').alias('visitors'))\n",
    "  .orderBy('visitors', ascending = False)\n",
    ")"
   ]
  },
  {
   "cell_type": "code",
   "execution_count": null,
   "metadata": {
    "application/vnd.databricks.v1+cell": {
     "inputWidgets": {},
     "nuid": "fb9c94b2-cb04-4fe9-982a-b8c34ae27928",
     "showTitle": false,
     "title": ""
    }
   },
   "outputs": [],
   "source": [
    "# 40k visitors to Seattle coffee shops since Jan 2018 originated from CBG `530330082001`, just under twice as many as the next CBG.\n",
    "home_loc_most_cafe_visitors.limit(10).toPandas().head()"
   ]
  },
  {
   "cell_type": "code",
   "execution_count": null,
   "metadata": {
    "application/vnd.databricks.v1+cell": {
     "inputWidgets": {},
     "nuid": "97f719eb-f50b-45fa-81a5-2566865e6682",
     "showTitle": false,
     "title": ""
    }
   },
   "outputs": [],
   "source": [
    "from shapely import wkt"
   ]
  },
  {
   "cell_type": "code",
   "execution_count": null,
   "metadata": {
    "application/vnd.databricks.v1+cell": {
     "inputWidgets": {},
     "nuid": "2fa0df31-b5d8-492b-8e34-b699f7a52adf",
     "showTitle": false,
     "title": ""
    }
   },
   "outputs": [],
   "source": [
    "# Map of the top 1000 CBGs in terms of visitors' origins\n",
    "home_loc_gdf = (\n",
    "  home_loc_most_cafe_visitors\n",
    "  .limit(1000)\n",
    "  .join(\n",
    "    WA_cbgs.select('cbg', 'cbg_polygon_geometry'),\n",
    "    'cbg'\n",
    "  )\n",
    "  .toPandas()\n",
    ")\n",
    "home_loc_gdf = gpd.GeoDataFrame(home_loc_gdf, geometry = gpd.GeoSeries.from_wkt(home_loc_gdf['cbg_polygon_geometry']), crs = 'EPSG:4326')"
   ]
  },
  {
   "cell_type": "code",
   "execution_count": null,
   "metadata": {
    "application/vnd.databricks.v1+cell": {
     "inputWidgets": {},
     "nuid": "f73c0bcb-a047-4437-ab68-6561f86b9c96",
     "showTitle": false,
     "title": ""
    }
   },
   "outputs": [],
   "source": [
    "def map_cbgs(gdf):\n",
    "  \n",
    "  # map bounds\n",
    "  sw = [gdf.unary_union.bounds[1], gdf.unary_union.bounds[0]]\n",
    "  ne = [gdf.unary_union.bounds[3], gdf.unary_union.bounds[2]]\n",
    "  folium_bounds = [sw, ne]\n",
    "  \n",
    "  # map\n",
    "  x = gdf.centroid.x[0]\n",
    "  y = gdf.centroid.y[0]\n",
    "  \n",
    "  map_ = folium.Map(\n",
    "    location = [y, x],\n",
    "    tiles = \"OpenStreetMap\"\n",
    "  )\n",
    "  \n",
    "  gdf['quantile'] = pd.qcut(gdf['visitors'], 100, labels=False) / 100\n",
    "  \n",
    "  folium.GeoJson(\n",
    "      gdf[['cbg', 'visitors', 'geometry', 'quantile']],\n",
    "      style_function = lambda x: {\n",
    "        'weight':0,\n",
    "        'color':'blue',\n",
    "        'fillOpacity': x['properties']['quantile']\n",
    "      },\n",
    "    tooltip = folium.features.GeoJsonTooltip(\n",
    "        fields = ['cbg', 'visitors', 'quantile']\n",
    "      )\n",
    "    ).add_to(map_)\n",
    "\n",
    "  map_.fit_bounds(folium_bounds) \n",
    "  \n",
    "  return map_"
   ]
  },
  {
   "cell_type": "code",
   "execution_count": null,
   "metadata": {
    "application/vnd.databricks.v1+cell": {
     "inputWidgets": {},
     "nuid": "fbc5ed14-3a88-42aa-bcd7-1e99509828f3",
     "showTitle": false,
     "title": ""
    }
   },
   "outputs": [],
   "source": [
    "# top 1000 home_cbgs by number of people who visited coffee shops in Seattle\n",
    "map_cbgs(home_loc_gdf)"
   ]
  },
  {
   "cell_type": "markdown",
   "metadata": {
    "application/vnd.databricks.v1+cell": {
     "inputWidgets": {},
     "nuid": "51cd82af-30e8-42ae-9cb7-6e29c8095e1b",
     "showTitle": false,
     "title": ""
    }
   },
   "source": [
    "## Conclusion\n",
    "\n",
    "Apache Sedona provides a familiar and straight-forward spatial SQL API for performing distributed spatial queries."
   ]
  },
  {
   "cell_type": "code",
   "execution_count": null,
   "metadata": {
    "application/vnd.databricks.v1+cell": {
     "inputWidgets": {},
     "nuid": "d4489511-104a-4c4f-aa95-7c9f1f81a6a8",
     "showTitle": false,
     "title": ""
    }
   },
   "outputs": [],
   "source": []
  }
 ],
 "metadata": {
  "application/vnd.databricks.v1+notebook": {
   "dashboards": [],
   "language": "python",
   "notebookMetadata": {
    "pythonIndentUnit": 2
   },
   "notebookName": "Workshop_example",
   "notebookOrigID": 3914119931284500,
   "widgets": {}
  },
  "kernelspec": {
   "display_name": "Python 3",
   "language": "python",
   "name": "python3"
  },
  "language_info": {
   "codemirror_mode": {
    "name": "ipython",
    "version": 3
   },
   "file_extension": ".py",
   "mimetype": "text/x-python",
   "name": "python",
   "nbconvert_exporter": "python",
   "pygments_lexer": "ipython3",
   "version": "3.8.5"
  }
 },
 "nbformat": 4,
 "nbformat_minor": 4
}
